{
 "cells": [
  {
   "cell_type": "code",
   "execution_count": 7,
   "id": "41f18cb4-72ec-4893-910c-2d5f3c6a8fd3",
   "metadata": {},
   "outputs": [
    {
     "name": "stdout",
     "output_type": "stream",
     "text": [
      "Post and comments with flair and post date extracted and saved to 'test_dataset.csv'.\n"
     ]
    },
    {
     "name": "stderr",
     "output_type": "stream",
     "text": [
      "C:\\Users\\Chris\\AppData\\Local\\Temp\\ipykernel_20752\\4026838166.py:24: DeprecationWarning: datetime.datetime.utcfromtimestamp() is deprecated and scheduled for removal in a future version. Use timezone-aware objects to represent datetimes in UTC: datetime.datetime.fromtimestamp(timestamp, datetime.UTC).\n",
      "  post_date = datetime.utcfromtimestamp(submission.created_utc).strftime('%Y-%m-%d %H:%M:%S')\n"
     ]
    }
   ],
   "source": [
    "import praw\n",
    "import pandas as pd\n",
    "from datetime import datetime\n",
    "\n",
    "# Set up Reddit API credentials\n",
    "client_id = 'Bkulv7ePr58Vu37vLBObAg'\n",
    "client_secret = 'jJTaqSbHFW-BXSYh0Br4copXSsiSWw'\n",
    "user_agent = 'Mozilla/5.0'\n",
    "\n",
    "# Initialize the PRAW Reddit instance\n",
    "reddit = praw.Reddit(\n",
    "    client_id=client_id,\n",
    "    client_secret=client_secret,\n",
    "    user_agent=user_agent\n",
    ")\n",
    "\n",
    "# Define the Reddit post URL\n",
    "post_url = 'https://www.reddit.com/r/NTU/comments/1fccw77/'  # Replace 'post_id' with the actual ID of the post\n",
    "\n",
    "# Get the submission (post) object\n",
    "submission = reddit.submission(url=post_url)\n",
    "\n",
    "# Convert the UTC timestamp to a human-readable format\n",
    "post_date = datetime.utcfromtimestamp(submission.created_utc).strftime('%Y-%m-%d %H:%M:%S')\n",
    "\n",
    "# Initialize a list to store post details and comments\n",
    "comments_dataset = []\n",
    "\n",
    "# Extract submission (post) details\n",
    "post_details = {\n",
    "    'post_id': submission.id,\n",
    "    'post_title': submission.title,\n",
    "    'post_author': submission.author.name if submission.author else 'deleted',\n",
    "    'post_author_flair': submission.author_flair_text,  # Extract the author's flair\n",
    "    'post_body': submission.selftext,\n",
    "    'post_score': submission.score,\n",
    "    'post_url': submission.url,\n",
    "    'post_num_comments': submission.num_comments,\n",
    "    'post_date': post_date  # Add post date\n",
    "}\n",
    "\n",
    "# Function to recursively extract comments and replies\n",
    "def extract_comments(comment, parent_id=None):\n",
    "    # Add the current comment to the dataset\n",
    "    comments_dataset.append({\n",
    "        'comment_id': comment.id,\n",
    "        'parent_id': parent_id,\n",
    "        'comment_author': comment.author.name if comment.author else 'deleted',\n",
    "        'comment_author_id': comment.author.id if comment.author else 'deleted',  # Extract the comment author's user_id\n",
    "        'comment_author_flair': comment.author_flair_text,  # Extract the comment author's flair\n",
    "        'comment_body': comment.body,\n",
    "        'comment_score': comment.score\n",
    "    })\n",
    "    \n",
    "    # Recursively extract replies\n",
    "    for reply in comment.replies:\n",
    "        extract_comments(reply, parent_id=comment.id)\n",
    "\n",
    "# Fetch all top-level comments and extract their replies\n",
    "submission.comments.replace_more(limit=None)  # Ensure all comments are loaded\n",
    "for top_level_comment in submission.comments.list():\n",
    "    extract_comments(top_level_comment)\n",
    "\n",
    "# Convert the comments dataset to a DataFrame\n",
    "df_comments = pd.DataFrame(comments_dataset)\n",
    "\n",
    "# Add post details to each comment (so each row contains both post and comment info)\n",
    "df_comments['post_id'] = post_details['post_id']\n",
    "df_comments['post_title'] = post_details['post_title']\n",
    "df_comments['post_author'] = post_details['post_author']\n",
    "df_comments['post_author_id'] = post_details['post_author_id']\n",
    "df_comments['post_author_flair'] = post_details['post_author_flair']\n",
    "df_comments['post_body'] = post_details['post_body']\n",
    "df_comments['post_score'] = post_details['post_score']\n",
    "df_comments['post_url'] = post_details['post_url']\n",
    "df_comments['post_num_comments'] = post_details['post_num_comments']\n",
    "df_comments['post_date'] = post_details['post_date']  # Add post date to each row\n",
    "\n",
    "# Save the comments and post data to a CSV file\n",
    "df_comments.to_csv('test_dataset.csv', index=False)\n",
    "\n",
    "print(\"Post and comments with flair and post date extracted and saved to 'test_dataset.csv'.\")\n"
   ]
  },
  {
   "cell_type": "code",
   "execution_count": null,
   "id": "18b4100a-5bab-452b-9df4-7d71bc3ccbfa",
   "metadata": {},
   "outputs": [],
   "source": []
  }
 ],
 "metadata": {
  "kernelspec": {
   "display_name": "Python 3 (ipykernel)",
   "language": "python",
   "name": "python3"
  },
  "language_info": {
   "codemirror_mode": {
    "name": "ipython",
    "version": 3
   },
   "file_extension": ".py",
   "mimetype": "text/x-python",
   "name": "python",
   "nbconvert_exporter": "python",
   "pygments_lexer": "ipython3",
   "version": "3.12.4"
  }
 },
 "nbformat": 4,
 "nbformat_minor": 5
}
