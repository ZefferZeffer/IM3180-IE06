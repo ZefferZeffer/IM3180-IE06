{
 "cells": [
  {
   "cell_type": "code",
   "execution_count": 1,
   "id": "c4b3780d-808f-4eb8-ba67-3888a36a30b1",
   "metadata": {},
   "outputs": [
    {
     "name": "stdout",
     "output_type": "stream",
     "text": [
      "Comments extracted and saved to 'new_reddit_comments.csv'.\n"
     ]
    }
   ],
   "source": [
    "import httpx\n",
    "import pandas as pd\n",
    "import time\n",
    "\n",
    "# Define the Reddit post URL\n",
    "post_url = 'https://www.reddit.com/r/NoStupidQuestions/comments/post_id/'  # Replace 'post_id' with the actual ID of the post\n",
    "\n",
    "# Convert the post URL to its JSON format\n",
    "json_url = post_url + '.json'\n",
    "\n",
    "# Define headers to mimic a browser request\n",
    "headers = {'User-agent': 'Mozilla/5.0'}\n",
    "\n",
    "# Fetch the post data in JSON format\n",
    "response = httpx.get(json_url, headers=headers)\n",
    "\n",
    "# Check if the request was successful\n",
    "if response.status_code != 200:\n",
    "    raise Exception(f'Failed to fetch data from {json_url}')\n",
    "\n",
    "# Parse the JSON data\n",
    "json_data = response.json()\n",
    "\n",
    "# Initialize a list to store comments\n",
    "comments_dataset = []\n",
    "\n",
    "# Extract the comments data\n",
    "if len(json_data) > 1:  # The comments are typically in the second element\n",
    "    comments = json_data[1]['data']['children']\n",
    "    for comment in comments:\n",
    "        comment_info = comment['data']\n",
    "        comments_dataset.append({\n",
    "            'comment_id': comment_info['id'],\n",
    "            'comment_author': comment_info.get('author', ''),\n",
    "            'comment_body': comment_info.get('body', ''),\n",
    "            'comment_score': comment_info.get('score', 0)\n",
    "        })\n",
    "\n",
    "# Convert the comments dataset to a DataFrame\n",
    "df_comments = pd.DataFrame(comments_dataset)\n",
    "\n",
    "# Save the comments data to a CSV file\n",
    "df_comments.to_csv('new_reddit_comments.csv', index=False)\n",
    "\n",
    "print(\"Comments extracted and saved to 'new_reddit_comments.csv'.\")\n"
   ]
  },
  {
   "cell_type": "code",
   "execution_count": null,
   "id": "23e584eb-11d5-429f-8871-542efc38f1ac",
   "metadata": {},
   "outputs": [],
   "source": []
  }
 ],
 "metadata": {
  "kernelspec": {
   "display_name": "Python 3 (ipykernel)",
   "language": "python",
   "name": "python3"
  },
  "language_info": {
   "codemirror_mode": {
    "name": "ipython",
    "version": 3
   },
   "file_extension": ".py",
   "mimetype": "text/x-python",
   "name": "python",
   "nbconvert_exporter": "python",
   "pygments_lexer": "ipython3",
   "version": "3.12.4"
  }
 },
 "nbformat": 4,
 "nbformat_minor": 5
}
