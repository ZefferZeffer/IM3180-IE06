{
 "cells": [
  {
   "cell_type": "code",
   "execution_count": 1,
   "id": "998ac79b-e33b-4e97-986b-6fde2846043b",
   "metadata": {},
   "outputs": [],
   "source": [
    "import time\n",
    "import httpx\n",
    "import pandas as pd"
   ]
  },
  {
   "cell_type": "code",
   "execution_count": 7,
   "id": "b859c1e9-e13f-4c0c-8960-90de0e686e1e",
   "metadata": {},
   "outputs": [
    {
     "name": "stdout",
     "output_type": "stream",
     "text": [
      "fetching \"https://www.reddit.com/r/NoStupidQuestions/hot.json?limit=100&t=year&after=\"...\n",
      "fetching \"https://www.reddit.com/r/NoStupidQuestions/hot.json?limit=100&t=year&after=t3_1f7sz0n\"...\n",
      "fetching \"https://www.reddit.com/r/NoStupidQuestions/hot.json?limit=100&t=year&after=t3_1f7wb40\"...\n",
      "fetching \"https://www.reddit.com/r/NoStupidQuestions/hot.json?limit=100&t=year&after=t3_1f7p0to\"...\n",
      "fetching \"https://www.reddit.com/r/NoStupidQuestions/hot.json?limit=100&t=year&after=t3_1f7q1p3\"...\n"
     ]
    }
   ],
   "source": [
    "base_url = 'https://www.reddit.com'\n",
    "endpoint = '/r/NoStupidQuestions'\n",
    "category = '/hot'\n",
    "\n",
    "url = base_url + endpoint + category + '.json'\n",
    "after_post_id = None\n",
    "dataset = []\n",
    "\n",
    "for _ in range(5):\n",
    "    params = {\n",
    "        'limit':100,\n",
    "        't':'year', # time unit\n",
    "        'after': after_post_id\n",
    "    }\n",
    "    response = httpx.get(url, params=params)\n",
    "    print(f'fetching \"{response.url}\"...')\n",
    "    if response.status_code != 200:\n",
    "        raise Exception('Failed to fetch data')\n",
    "\n",
    "    json_data = response.json()\n",
    "    dataset.extend([rec['data'] for rec in json_data['data']['children']])\n",
    "\n",
    "    after_post_id = json_data['data']['after']\n",
    "    time.sleep(0.5)\n",
    "\n",
    "df = pd.DataFrame(dataset)\n",
    "df.to_csv('reddit_python.csv', index=False)"
   ]
  },
  {
   "cell_type": "code",
   "execution_count": null,
   "id": "864cc95e-2fc0-4645-a9f8-68f6eb3d5384",
   "metadata": {},
   "outputs": [],
   "source": []
  }
 ],
 "metadata": {
  "kernelspec": {
   "display_name": "Python 3 (ipykernel)",
   "language": "python",
   "name": "python3"
  },
  "language_info": {
   "codemirror_mode": {
    "name": "ipython",
    "version": 3
   },
   "file_extension": ".py",
   "mimetype": "text/x-python",
   "name": "python",
   "nbconvert_exporter": "python",
   "pygments_lexer": "ipython3",
   "version": "3.12.4"
  }
 },
 "nbformat": 4,
 "nbformat_minor": 5
}
